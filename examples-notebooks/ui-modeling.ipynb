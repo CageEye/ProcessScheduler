{
 "cells": [
  {
   "cell_type": "markdown",
   "id": "institutional-compound",
   "metadata": {},
   "source": [
    "# A jupyter/voila user interface for ProcessScheduler modeling"
   ]
  },
  {
   "cell_type": "code",
   "execution_count": 1,
   "id": "trying-intelligence",
   "metadata": {},
   "outputs": [],
   "source": [
    "import processscheduler.jupyter_ui as gui"
   ]
  },
  {
   "cell_type": "markdown",
   "id": "awful-winner",
   "metadata": {},
   "source": [
    "## Problem\n",
    "The problem name is a mandatory parameter. If you check the 'Set horizon' box, then enter an integer in the 'Horizon' field. If you don't, the solver will suggest an horizon that satisfied the constraints."
   ]
  },
  {
   "cell_type": "code",
   "execution_count": 2,
   "id": "polyphonic-premises",
   "metadata": {},
   "outputs": [
    {
     "data": {
      "application/vnd.jupyter.widget-view+json": {
       "model_id": "c87f908ca6524464ad2c711761846c23",
       "version_major": 2,
       "version_minor": 0
      },
      "text/plain": [
       "VBox(children=(HBox(children=(Text(value='MySchedulingProblem', description='Name:', placeholder='Enter schedu…"
      ]
     },
     "metadata": {},
     "output_type": "display_data"
    }
   ],
   "source": [
    "gui.problem_ui"
   ]
  },
  {
   "cell_type": "markdown",
   "id": "written-extension",
   "metadata": {},
   "source": [
    "## Resources\n",
    "The *Size* field is relevant for *CumulativeWorker* only."
   ]
  },
  {
   "cell_type": "code",
   "execution_count": 3,
   "id": "fundamental-gibson",
   "metadata": {},
   "outputs": [
    {
     "data": {
      "application/vnd.jupyter.widget-view+json": {
       "model_id": "7e3da1c71ba6470cb8e8dba50970254f",
       "version_major": 2,
       "version_minor": 0
      },
      "text/plain": [
       "VBox(children=(HBox(children=(Dropdown(description='Task type:', options=('Worker', 'CumulativeWorker'), value…"
      ]
     },
     "metadata": {},
     "output_type": "display_data"
    }
   ],
   "source": [
    "gui.resource_ui"
   ]
  },
  {
   "cell_type": "markdown",
   "id": "loved-williams",
   "metadata": {},
   "source": [
    "## Tasks"
   ]
  },
  {
   "cell_type": "code",
   "execution_count": 4,
   "id": "reduced-sender",
   "metadata": {},
   "outputs": [
    {
     "data": {
      "application/vnd.jupyter.widget-view+json": {
       "model_id": "f5140f00eea74d3c95e4677507e4f304",
       "version_major": 2,
       "version_minor": 0
      },
      "text/plain": [
       "VBox(children=(HBox(children=(Dropdown(description='Task type:', index=1, options=('ZeroDurationTask', 'FixedD…"
      ]
     },
     "metadata": {},
     "output_type": "display_data"
    }
   ],
   "source": [
    "gui.task_ui"
   ]
  },
  {
   "cell_type": "markdown",
   "id": "restricted-cambridge",
   "metadata": {},
   "source": [
    "## Resource assignment and Constraints\n",
    "Tasks and resources appear in the following list boxes. Select one (many) task(s) or resource(s), select the related constraint, then click the 'Create constraint' button."
   ]
  },
  {
   "cell_type": "code",
   "execution_count": 5,
   "id": "numeric-scanning",
   "metadata": {},
   "outputs": [
    {
     "data": {
      "application/vnd.jupyter.widget-view+json": {
       "model_id": "01562fefb2e6466886675ec282e2e5bf",
       "version_major": 2,
       "version_minor": 0
      },
      "text/plain": [
       "VBox(children=(HBox(children=(SelectMultiple(description='Resources:', options=(), value=()), Dropdown(options…"
      ]
     },
     "metadata": {},
     "output_type": "display_data"
    }
   ],
   "source": [
    "gui.constraint_ui"
   ]
  },
  {
   "cell_type": "markdown",
   "id": "vocal-basics",
   "metadata": {},
   "source": [
    "## Solve and render"
   ]
  },
  {
   "cell_type": "code",
   "execution_count": 6,
   "id": "wicked-surrey",
   "metadata": {},
   "outputs": [
    {
     "data": {
      "application/vnd.jupyter.widget-view+json": {
       "model_id": "ea49491ec910429d915bb1e37471483d",
       "version_major": 2,
       "version_minor": 0
      },
      "text/plain": [
       "VBox(children=(HBox(children=(IntText(value=60, description='Max time (s):', layout=Layout(width='200px')), Se…"
      ]
     },
     "metadata": {},
     "output_type": "display_data"
    }
   ],
   "source": [
    "gui.solver_ui"
   ]
  }
 ],
 "metadata": {
  "kernelspec": {
   "display_name": "Python 3",
   "language": "python",
   "name": "python3"
  },
  "language_info": {
   "codemirror_mode": {
    "name": "ipython",
    "version": 3
   },
   "file_extension": ".py",
   "mimetype": "text/x-python",
   "name": "python",
   "nbconvert_exporter": "python",
   "pygments_lexer": "ipython3",
   "version": "3.8.6"
  }
 },
 "nbformat": 4,
 "nbformat_minor": 5
}
