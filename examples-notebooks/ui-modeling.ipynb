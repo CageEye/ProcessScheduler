{
 "cells": [
  {
   "cell_type": "markdown",
   "id": "dominican-anthropology",
   "metadata": {},
   "source": [
    "# A jupyter/voila user interface for ProcessScheduler modeling"
   ]
  },
  {
   "cell_type": "code",
   "execution_count": 1,
   "id": "cardiovascular-rapid",
   "metadata": {},
   "outputs": [],
   "source": [
    "%matplotlib widget\n",
    "import processscheduler.jupyter_ui as gui"
   ]
  },
  {
   "cell_type": "markdown",
   "id": "dominant-clark",
   "metadata": {},
   "source": [
    "## Problem\n",
    "The problem name is a mandatory parameter. If you check the 'Set horizon' box, then enter an integer in the 'Horizon' field. If you don't, the solver will suggest an horizon that satisfied the constraints.\n",
    "\n",
    "The *Time* fields format must be ISO date strings. For example, the *Start Time* can be `2021-05-5T10:00` and *Delta Time* for example `PT1H` (one hour)."
   ]
  },
  {
   "cell_type": "code",
   "execution_count": 2,
   "id": "entitled-realtor",
   "metadata": {
    "scrolled": true
   },
   "outputs": [
    {
     "data": {
      "application/vnd.jupyter.widget-view+json": {
       "model_id": "dd3f0a93cecf41eeab52c5efd8e6e10a",
       "version_major": 2,
       "version_minor": 0
      },
      "text/plain": [
       "VBox(children=(HBox(children=(Text(value='MySchedulingProblem', description='Name:', placeholder='Enter schedu…"
      ]
     },
     "metadata": {},
     "output_type": "display_data"
    }
   ],
   "source": [
    "gui.problem_ui"
   ]
  },
  {
   "cell_type": "markdown",
   "id": "handed-mentor",
   "metadata": {},
   "source": [
    "## Resources\n",
    "The *Size* field is relevant for *CumulativeWorker* only."
   ]
  },
  {
   "cell_type": "code",
   "execution_count": 3,
   "id": "exclusive-amendment",
   "metadata": {},
   "outputs": [
    {
     "data": {
      "application/vnd.jupyter.widget-view+json": {
       "model_id": "1d8d20b542714fe8aa59ad98b82dd482",
       "version_major": 2,
       "version_minor": 0
      },
      "text/plain": [
       "VBox(children=(HBox(children=(Dropdown(description='Task type:', options=('Worker', 'CumulativeWorker'), value…"
      ]
     },
     "metadata": {},
     "output_type": "display_data"
    }
   ],
   "source": [
    "gui.resource_ui"
   ]
  },
  {
   "cell_type": "markdown",
   "id": "weighted-dimension",
   "metadata": {},
   "source": [
    "## Tasks"
   ]
  },
  {
   "cell_type": "code",
   "execution_count": 4,
   "id": "instructional-tuning",
   "metadata": {},
   "outputs": [
    {
     "data": {
      "application/vnd.jupyter.widget-view+json": {
       "model_id": "9e1c9111b56a42a2a11f44dd8738786b",
       "version_major": 2,
       "version_minor": 0
      },
      "text/plain": [
       "VBox(children=(HBox(children=(Checkbox(value=False, description='Optional', indent=False, layout=Layout(width=…"
      ]
     },
     "metadata": {},
     "output_type": "display_data"
    }
   ],
   "source": [
    "gui.task_ui"
   ]
  },
  {
   "cell_type": "markdown",
   "id": "imported-vacation",
   "metadata": {},
   "source": [
    "## Resource assignment and Constraints\n",
    "Tasks and resources appear in the following list boxes. Select one (many) task(s) or resource(s), select the related constraint, then click the 'Create constraint' button."
   ]
  },
  {
   "cell_type": "code",
   "execution_count": 5,
   "id": "integral-tongue",
   "metadata": {},
   "outputs": [
    {
     "data": {
      "application/vnd.jupyter.widget-view+json": {
       "model_id": "e62e0044070e49a1afe611f9b84b04b8",
       "version_major": 2,
       "version_minor": 0
      },
      "text/plain": [
       "VBox(children=(HBox(children=(SelectMultiple(description='Resources:', options=(), value=()), Dropdown(layout=…"
      ]
     },
     "metadata": {},
     "output_type": "display_data"
    }
   ],
   "source": [
    "gui.constraint_ui"
   ]
  },
  {
   "cell_type": "markdown",
   "id": "developmental-desktop",
   "metadata": {},
   "source": [
    "## Solve and render"
   ]
  },
  {
   "cell_type": "code",
   "execution_count": 6,
   "id": "ambient-flesh",
   "metadata": {},
   "outputs": [
    {
     "data": {
      "application/vnd.jupyter.widget-view+json": {
       "model_id": "a2aa9846a864457eab319803b3a7b7e6",
       "version_major": 2,
       "version_minor": 0
      },
      "text/plain": [
       "VBox(children=(HBox(children=(IntText(value=60, description='Max time (s):', layout=Layout(width='200px')), Se…"
      ]
     },
     "metadata": {},
     "output_type": "display_data"
    }
   ],
   "source": [
    "gui.solver_ui"
   ]
  }
 ],
 "metadata": {
  "kernelspec": {
   "display_name": "Python 3",
   "language": "python",
   "name": "python3"
  },
  "language_info": {
   "codemirror_mode": {
    "name": "ipython",
    "version": 3
   },
   "file_extension": ".py",
   "mimetype": "text/x-python",
   "name": "python",
   "nbconvert_exporter": "python",
   "pygments_lexer": "ipython3",
   "version": "3.8.6"
  }
 },
 "nbformat": 4,
 "nbformat_minor": 5
}
