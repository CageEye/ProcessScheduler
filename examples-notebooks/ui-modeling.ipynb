{
 "cells": [
  {
   "cell_type": "markdown",
   "id": "violent-writer",
   "metadata": {},
   "source": [
    "# A jupyter/voila user interface for ProcessScheduler modeling"
   ]
  },
  {
   "cell_type": "code",
   "execution_count": 1,
   "id": "brave-hindu",
   "metadata": {},
   "outputs": [],
   "source": [
    "import processscheduler.jupyter_ui as gui"
   ]
  },
  {
   "cell_type": "markdown",
   "id": "governmental-verification",
   "metadata": {},
   "source": [
    "## Problem\n",
    "The problem name is a mandatory parameter. If you check the 'Set horizon' box, then enter an integer in the 'Horizon' field. If you don't, the solver will suggest an horizon that satisfied the constraints."
   ]
  },
  {
   "cell_type": "code",
   "execution_count": 2,
   "id": "distinct-intensity",
   "metadata": {},
   "outputs": [
    {
     "data": {
      "application/vnd.jupyter.widget-view+json": {
       "model_id": "d793d855028a4d73803cb7689e184423",
       "version_major": 2,
       "version_minor": 0
      },
      "text/plain": [
       "VBox(children=(HBox(children=(Text(value='MySchedulingProblem', description='Name:', placeholder='Type somethi…"
      ]
     },
     "metadata": {},
     "output_type": "display_data"
    }
   ],
   "source": [
    "gui.problem_ui"
   ]
  },
  {
   "cell_type": "markdown",
   "id": "scientific-hollow",
   "metadata": {},
   "source": [
    "## Resources\n",
    "The *Size* field is relevant for *CumulativeWorker* only."
   ]
  },
  {
   "cell_type": "code",
   "execution_count": 3,
   "id": "governmental-scottish",
   "metadata": {},
   "outputs": [
    {
     "data": {
      "application/vnd.jupyter.widget-view+json": {
       "model_id": "cb2ceac45db54f749e59b1d5fa38faba",
       "version_major": 2,
       "version_minor": 0
      },
      "text/plain": [
       "VBox(children=(HBox(children=(Dropdown(description='Task type:', options=('Worker', 'CumulativeWorker'), value…"
      ]
     },
     "metadata": {},
     "output_type": "display_data"
    }
   ],
   "source": [
    "gui.resource_ui"
   ]
  },
  {
   "cell_type": "markdown",
   "id": "important-washington",
   "metadata": {},
   "source": [
    "## Tasks"
   ]
  },
  {
   "cell_type": "code",
   "execution_count": 4,
   "id": "wired-shadow",
   "metadata": {},
   "outputs": [
    {
     "data": {
      "application/vnd.jupyter.widget-view+json": {
       "model_id": "a78a890b8576478a938d8b00071fd5a6",
       "version_major": 2,
       "version_minor": 0
      },
      "text/plain": [
       "VBox(children=(HBox(children=(Dropdown(description='Task type:', index=1, options=('ZeroDurationTask', 'FixedD…"
      ]
     },
     "metadata": {},
     "output_type": "display_data"
    }
   ],
   "source": [
    "gui.task_ui"
   ]
  },
  {
   "cell_type": "markdown",
   "id": "welsh-popularity",
   "metadata": {},
   "source": [
    "## Constraints\n",
    "Tasks and resources appear in the following list boxes. Select one (many) task(s) or resource(s), select the related constraint, then click the 'Create constraint' button."
   ]
  },
  {
   "cell_type": "code",
   "execution_count": 5,
   "id": "meaningful-agency",
   "metadata": {},
   "outputs": [
    {
     "data": {
      "application/vnd.jupyter.widget-view+json": {
       "model_id": "662dcac5370a4a6889938ab7f9db5bcb",
       "version_major": 2,
       "version_minor": 0
      },
      "text/plain": [
       "VBox(children=(HBox(children=(Select(description='Tasks:', options=(), value=None), Dropdown(description='Cons…"
      ]
     },
     "metadata": {},
     "output_type": "display_data"
    }
   ],
   "source": [
    "gui.constraint_ui"
   ]
  },
  {
   "cell_type": "markdown",
   "id": "prompt-weather",
   "metadata": {},
   "source": [
    "## Solve and render"
   ]
  },
  {
   "cell_type": "code",
   "execution_count": 6,
   "id": "forced-mandate",
   "metadata": {},
   "outputs": [
    {
     "data": {
      "application/vnd.jupyter.widget-view+json": {
       "model_id": "90b18c079705440e8e94f05865a2c847",
       "version_major": 2,
       "version_minor": 0
      },
      "text/plain": [
       "VBox(children=(HBox(children=(IntText(value=60, description='Max time:'), Select(description='Priority:', opti…"
      ]
     },
     "metadata": {},
     "output_type": "display_data"
    }
   ],
   "source": [
    "gui.solver_ui"
   ]
  }
 ],
 "metadata": {
  "kernelspec": {
   "display_name": "Python 3",
   "language": "python",
   "name": "python3"
  },
  "language_info": {
   "codemirror_mode": {
    "name": "ipython",
    "version": 3
   },
   "file_extension": ".py",
   "mimetype": "text/x-python",
   "name": "python",
   "nbconvert_exporter": "python",
   "pygments_lexer": "ipython3",
   "version": "3.8.6"
  }
 },
 "nbformat": 4,
 "nbformat_minor": 5
}
