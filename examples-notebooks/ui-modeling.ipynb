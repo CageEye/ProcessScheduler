{
 "cells": [
  {
   "cell_type": "markdown",
   "id": "entertaining-arlington",
   "metadata": {},
   "source": [
    "# A jupyter/voila user interface for ProcessScheduler modeling"
   ]
  },
  {
   "cell_type": "code",
   "execution_count": 1,
   "id": "furnished-pension",
   "metadata": {},
   "outputs": [],
   "source": [
    "%matplotlib widget\n",
    "import processscheduler.jupyter_ui as gui"
   ]
  },
  {
   "cell_type": "markdown",
   "id": "apparent-bookmark",
   "metadata": {},
   "source": [
    "## Problem\n",
    "The problem name is a mandatory parameter. If you check the 'Set horizon' box, then enter an integer in the 'Horizon' field. If you don't, the solver will suggest an horizon that satisfied the constraints.\n",
    "\n",
    "The *Time* fields format must be ISO date strings. For example, the *Start Time* can be `2021-05-5T10:00` and *Delta Time* for example `PT1H` (one hour)."
   ]
  },
  {
   "cell_type": "code",
   "execution_count": 2,
   "id": "final-camera",
   "metadata": {
    "scrolled": true
   },
   "outputs": [
    {
     "data": {
      "application/vnd.jupyter.widget-view+json": {
       "model_id": "20d74b2832764e57a6a1d54e9ba850c5",
       "version_major": 2,
       "version_minor": 0
      },
      "text/plain": [
       "VBox(children=(HBox(children=(Text(value='MySchedulingProblem', description='Name:', placeholder='Enter schedu…"
      ]
     },
     "metadata": {},
     "output_type": "display_data"
    }
   ],
   "source": [
    "gui.problem_ui"
   ]
  },
  {
   "cell_type": "markdown",
   "id": "vocational-consciousness",
   "metadata": {},
   "source": [
    "## Resources\n",
    "The *Size* field is relevant for *CumulativeWorker* only."
   ]
  },
  {
   "cell_type": "code",
   "execution_count": 3,
   "id": "removed-background",
   "metadata": {},
   "outputs": [
    {
     "data": {
      "application/vnd.jupyter.widget-view+json": {
       "model_id": "d571836a9eb54bc7aa1ae4f364f7dcfb",
       "version_major": 2,
       "version_minor": 0
      },
      "text/plain": [
       "VBox(children=(HBox(children=(Dropdown(description='Task type:', options=('Worker', 'CumulativeWorker'), value…"
      ]
     },
     "metadata": {},
     "output_type": "display_data"
    }
   ],
   "source": [
    "gui.resource_ui"
   ]
  },
  {
   "cell_type": "markdown",
   "id": "annual-saying",
   "metadata": {},
   "source": [
    "## Tasks"
   ]
  },
  {
   "cell_type": "code",
   "execution_count": 4,
   "id": "threatened-pencil",
   "metadata": {},
   "outputs": [
    {
     "data": {
      "application/vnd.jupyter.widget-view+json": {
       "model_id": "9a7eda873b3f4820ba584e092ac4dec6",
       "version_major": 2,
       "version_minor": 0
      },
      "text/plain": [
       "VBox(children=(HBox(children=(Checkbox(value=False, description='Optional', indent=False, layout=Layout(width=…"
      ]
     },
     "metadata": {},
     "output_type": "display_data"
    }
   ],
   "source": [
    "gui.task_ui"
   ]
  },
  {
   "cell_type": "markdown",
   "id": "lyric-triumph",
   "metadata": {},
   "source": [
    "## Resource assignment and Constraints\n",
    "Tasks and resources appear in the following list boxes. Select one (many) task(s) or resource(s), select the related constraint, then click the 'Create constraint' button."
   ]
  },
  {
   "cell_type": "code",
   "execution_count": 5,
   "id": "lined-cambodia",
   "metadata": {},
   "outputs": [
    {
     "data": {
      "application/vnd.jupyter.widget-view+json": {
       "model_id": "08673a398ca6460ab30a0970e3f8e7b2",
       "version_major": 2,
       "version_minor": 0
      },
      "text/plain": [
       "VBox(children=(HBox(children=(SelectMultiple(description='Resources:', options=(), value=()), Dropdown(options…"
      ]
     },
     "metadata": {},
     "output_type": "display_data"
    }
   ],
   "source": [
    "gui.constraint_ui"
   ]
  },
  {
   "cell_type": "markdown",
   "id": "metropolitan-mitchell",
   "metadata": {},
   "source": [
    "## Solve and render"
   ]
  },
  {
   "cell_type": "code",
   "execution_count": 6,
   "id": "innocent-twist",
   "metadata": {},
   "outputs": [
    {
     "data": {
      "application/vnd.jupyter.widget-view+json": {
       "model_id": "0602912e8498440e83d6b1eea964df5c",
       "version_major": 2,
       "version_minor": 0
      },
      "text/plain": [
       "VBox(children=(HBox(children=(IntText(value=60, description='Max time (s):', layout=Layout(width='200px')), Se…"
      ]
     },
     "metadata": {},
     "output_type": "display_data"
    }
   ],
   "source": [
    "gui.solver_ui"
   ]
  }
 ],
 "metadata": {
  "kernelspec": {
   "display_name": "Python 3",
   "language": "python",
   "name": "python3"
  },
  "language_info": {
   "codemirror_mode": {
    "name": "ipython",
    "version": 3
   },
   "file_extension": ".py",
   "mimetype": "text/x-python",
   "name": "python",
   "nbconvert_exporter": "python",
   "pygments_lexer": "ipython3",
   "version": "3.8.6"
  }
 },
 "nbformat": 4,
 "nbformat_minor": 5
}
