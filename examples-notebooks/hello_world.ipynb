{
 "cells": [
  {
   "cell_type": "code",
   "execution_count": null,
   "metadata": {},
   "outputs": [],
   "source": [
    "import processscheduler as ps\n",
    "%matplotlib inline"
   ]
  },
  {
   "cell_type": "code",
   "execution_count": null,
   "metadata": {},
   "outputs": [],
   "source": [
    "# a simple problem, without horizon (solver will find it)\n",
    "pb = ps.SchedulingProblem('HelloWorld')\n",
    "\n",
    "# add two tasks\n",
    "task_hello = ps.FixedDurationTask('Hello', duration=2)\n",
    "task_world = ps.FixedDurationTask('World', duration=2)\n",
    "pb.add_tasks([task_hello, task_world])\n",
    "\n",
    "# precedence constraint: task_wolrd must be scheduled\n",
    "# after task_hello\n",
    "c1 = ps.TaskPrecedence(task_hello, task_world, offset=0)\n",
    "pb.add_constraint(c1)"
   ]
  },
  {
   "cell_type": "code",
   "execution_count": null,
   "metadata": {},
   "outputs": [],
   "source": [
    "# solve\n",
    "solver = ps.SchedulingSolver(pb, verbosity=False)\n",
    "solver.solve()"
   ]
  },
  {
   "cell_type": "code",
   "execution_count": null,
   "metadata": {},
   "outputs": [],
   "source": [
    "# displays solution, ascii or matplotlib gantt diagram\n",
    "pb.print_solution()"
   ]
  },
  {
   "cell_type": "code",
   "execution_count": null,
   "metadata": {},
   "outputs": [],
   "source": [
    "pb.render_gantt_matplotlib()"
   ]
  }
 ],
 "metadata": {
  "kernelspec": {
   "display_name": "Python 3",
   "language": "python",
   "name": "python3"
  },
  "language_info": {
   "codemirror_mode": {
    "name": "ipython",
    "version": 3
   },
   "file_extension": ".py",
   "mimetype": "text/x-python",
   "name": "python",
   "nbconvert_exporter": "python",
   "pygments_lexer": "ipython3",
   "version": "3.8.6"
  }
 },
 "nbformat": 4,
 "nbformat_minor": 4
}
