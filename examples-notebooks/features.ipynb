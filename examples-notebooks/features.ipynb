{
 "cells": [
  {
   "cell_type": "code",
   "execution_count": null,
   "metadata": {},
   "outputs": [],
   "source": [
    "from processscheduler import *\n",
    "%config InlineBackend.figure_formats = ['svg']"
   ]
  },
  {
   "cell_type": "markdown",
   "metadata": {},
   "source": [
    "### Resource assignement\n",
    "Two tasks, two resources"
   ]
  },
  {
   "cell_type": "code",
   "execution_count": null,
   "metadata": {},
   "outputs": [],
   "source": [
    "# problem\n",
    "pb_ra = SchedulingProblem(\"ResourceAssignment\")\n",
    "# tasks\n",
    "t1 = FixedDurationTask('t1', duration=2)\n",
    "t2 = FixedDurationTask('t2', duration=2)\n",
    "t3 = FixedDurationTask('t3', duration=2)\n",
    "pb_ra.add_tasks([t1, t2,t3])\n",
    "# resource requirements\n",
    "w1 = Worker('W1')\n",
    "w2 = Worker('W2')\n",
    "pb_ra.add_resources([w1, w2])\n",
    "\n",
    "# resource assignement\n",
    "t1.add_required_resource(w1)  # t1 only needs w1\n",
    "t2.add_required_resource(w2)  # t2 only needs w2\n",
    "t3.add_required_resource(w1)  # t2 needs both w1 AND w2\n",
    "t3.add_required_resource(w2)\n",
    "\n",
    "\n",
    "# solve\n",
    "solver1 = SchedulingSolver(pb_ra, verbosity=False)\n",
    "solver1.solve()\n",
    "pb_ra.render_gantt_matplotlib()"
   ]
  },
  {
   "cell_type": "markdown",
   "metadata": {},
   "source": [
    "### TaskDontOverlap constraint\n",
    "Make two tasks don't overlap, one is scheduled after the other, or the opposite."
   ]
  },
  {
   "cell_type": "code",
   "execution_count": null,
   "metadata": {},
   "outputs": [],
   "source": [
    "# problem\n",
    "pb_ovlap = SchedulingProblem(\"DontOverlapExample\", horizon=6)\n",
    "# tasks\n",
    "t1 = FixedDurationTask('t1', duration=2)\n",
    "t2 = FixedDurationTask('t2', duration=2)\n",
    "t3 = FixedDurationTask('t3', duration=2)\n",
    "pb_ovlap.add_tasks([t1, t2,t3])\n",
    "\n",
    "# constraints\n",
    "c1 = TaskStartAt(t2, 1)\n",
    "c2 = TasksDontOverlap(t2, t3) # t2 and t3 must not overlap\n",
    "pb_ovlap.add_constraints([c1, c2])\n",
    "\n",
    "# solve\n",
    "solver1 = SchedulingSolver(pb_ovlap, verbosity=False)\n",
    "solver1.solve()\n",
    "# render_mode set to Tasks because there is no resource\n",
    "pb_ovlap.render_gantt_matplotlib(render_mode='Tasks')"
   ]
  },
  {
   "cell_type": "markdown",
   "metadata": {},
   "source": [
    "### AlternativeWorkers assignment\n",
    "Choose $n$ workers among a list of available workers"
   ]
  },
  {
   "cell_type": "code",
   "execution_count": null,
   "metadata": {},
   "outputs": [],
   "source": [
    "# problem\n",
    "pb_alt = SchedulingProblem(\"AlternativeWorkerExample\", horizon=3)\n",
    "\n",
    "# tasks\n",
    "t1 = FixedDurationTask('t1', duration=3)\n",
    "t2 = FixedDurationTask('t2', duration=2)\n",
    "t3 = FixedDurationTask('t3', duration=2)\n",
    "pb_alt.add_tasks([t1, t2, t3])\n",
    "\n",
    "# resource requirements\n",
    "w1 = Worker('W1')\n",
    "w2 = Worker('W2')\n",
    "w3 = Worker('W3')\n",
    "w4 = AlternativeWorkers([w1, w2, w3])\n",
    "\n",
    "pb_alt.add_resources([w1, w2, w3])\n",
    "\n",
    "# resource assignement\n",
    "t1.add_required_resource(w1)  # t1 only needs w1\n",
    "t2.add_required_resource(w2)  # t2 only needs w2\n",
    "t3.add_required_resource(w4)  # t3 only needs one of w1, 2 or 3\n",
    "\n",
    "# solve\n",
    "solver1 = SchedulingSolver(pb_alt, verbosity=False)\n",
    "solver1.solve()\n",
    "pb_alt.render_gantt_matplotlib()"
   ]
  },
  {
   "cell_type": "markdown",
   "metadata": {},
   "source": [
    "### Boolean Not for a task constraint"
   ]
  },
  {
   "cell_type": "code",
   "execution_count": null,
   "metadata": {},
   "outputs": [],
   "source": [
    "# problem\n",
    "pb_not = SchedulingProblem(\"NotOperator\", horizon=4)\n",
    "\n",
    "# tasks\n",
    "t2 = FixedDurationTask('t2', duration=2)\n",
    "pb_not.add_task(t2)\n",
    "\n",
    "pb_not.add_constraint(not_(TaskStartAt(t2, 0)))\n",
    "pb_not.add_constraint(not_(TaskStartAt(t2, 1)))\n",
    "# solve\n",
    "solver = SchedulingSolver(pb_not, verbosity=False)\n",
    "solver.solve()\n",
    "pb_not.print_solution()\n",
    "pb_not.render_gantt_matplotlib()"
   ]
  },
  {
   "cell_type": "markdown",
   "metadata": {},
   "source": [
    "### Boolean Or between tasks constraints"
   ]
  },
  {
   "cell_type": "code",
   "execution_count": null,
   "metadata": {},
   "outputs": [],
   "source": [
    "# problem\n",
    "pb_or = SchedulingProblem(\"OrOperator\", horizon=7)\n",
    "\n",
    "# tasks\n",
    "task = FixedDurationTask('task', duration=2)\n",
    "pb_or.add_task(task)\n",
    "\n",
    "pb_or.add_constraint(or_(TaskStartAt(task, 3), TaskStartAt(task, 2)))\n",
    "# solve\n",
    "solver = SchedulingSolver(pb_or, verbosity=False)\n",
    "solver.solve()\n",
    "pb_or.render_gantt_matplotlib()"
   ]
  },
  {
   "cell_type": "markdown",
   "metadata": {},
   "source": [
    "### Boolean And between tasks constraints"
   ]
  },
  {
   "cell_type": "code",
   "execution_count": null,
   "metadata": {},
   "outputs": [],
   "source": [
    "# problem\n",
    "pb_and = SchedulingProblem(\"AndOperator\", horizon=8)\n",
    "\n",
    "# tasks\n",
    "task = FixedDurationTask('task', duration=2)\n",
    "pb_and.add_task(task)\n",
    "\n",
    "pb_and.add_constraint(and_(TaskStartAfterLax(task, 1), TaskEndBeforeLax(task, 4)))\n",
    "# solve\n",
    "solver = SchedulingSolver(pb_and, verbosity=False)\n",
    "solver.solve()\n",
    "pb_and.render_gantt_matplotlib()"
   ]
  }
 ],
 "metadata": {
  "kernelspec": {
   "display_name": "Python 3",
   "language": "python",
   "name": "python3"
  },
  "language_info": {
   "codemirror_mode": {
    "name": "ipython",
    "version": 3
   },
   "file_extension": ".py",
   "mimetype": "text/x-python",
   "name": "python",
   "nbconvert_exporter": "python",
   "pygments_lexer": "ipython3",
   "version": "3.8.6"
  }
 },
 "nbformat": 4,
 "nbformat_minor": 4
}
