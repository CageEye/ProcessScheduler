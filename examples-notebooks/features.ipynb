{
 "cells": [
  {
   "cell_type": "code",
   "execution_count": null,
   "metadata": {},
   "outputs": [],
   "source": [
    "import processscheduler as ps"
   ]
  },
  {
   "cell_type": "markdown",
   "metadata": {},
   "source": [
    "### TaskDontOverlap constraint\n",
    "Make two tasks don't overlap, one is scheduled after the other, or the opposite."
   ]
  },
  {
   "cell_type": "code",
   "execution_count": null,
   "metadata": {},
   "outputs": [],
   "source": [
    "# problem\n",
    "pb1 = ps.SchedulingProblem(\"DontOverlapExample\", horizon=6)\n",
    "# tasks\n",
    "t1 = ps.FixedLengthTask('t1', length=2)\n",
    "t2 = ps.FixedLengthTask('t2', length=2)\n",
    "t3 = ps.FixedLengthTask('t3', length=2)\n",
    "pb1.add_tasks([t1, t2,t3])\n",
    "# constraints\n",
    "c1 = ps.TaskStartAt(t2, 1)\n",
    "c2 = ps.TaskDontOverlap(t2, t3) # t2 and t3 must not overlap\n",
    "pb1.add_constraints([c1, c2])\n",
    "# solve\n",
    "solver1 = ps.SchedulingSolver(pb1, verbosity=False)\n",
    "solver1.solve()\n",
    "pb1.render_gantt_matplotlib()"
   ]
  },
  {
   "cell_type": "code",
   "execution_count": null,
   "metadata": {},
   "outputs": [],
   "source": []
  }
 ],
 "metadata": {
  "kernelspec": {
   "display_name": "Python 3",
   "language": "python",
   "name": "python3"
  },
  "language_info": {
   "codemirror_mode": {
    "name": "ipython",
    "version": 3
   },
   "file_extension": ".py",
   "mimetype": "text/x-python",
   "name": "python",
   "nbconvert_exporter": "python",
   "pygments_lexer": "ipython3",
   "version": "3.8.6"
  }
 },
 "nbformat": 4,
 "nbformat_minor": 4
}
