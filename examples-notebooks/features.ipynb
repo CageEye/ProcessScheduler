{
 "cells": [
  {
   "cell_type": "code",
   "execution_count": null,
   "metadata": {},
   "outputs": [],
   "source": [
    "from processscheduler import *\n",
    "%config InlineBackend.figure_formats = ['svg']"
   ]
  },
  {
   "cell_type": "markdown",
   "metadata": {},
   "source": [
    "### Resource assignement\n",
    "Two tasks, two resources"
   ]
  },
  {
   "cell_type": "code",
   "execution_count": null,
   "metadata": {},
   "outputs": [],
   "source": [
    "# problem\n",
    "pb_ra = SchedulingProblem(\"ResourceAssignment\")\n",
    "# tasks\n",
    "t1 = FixedDurationTask('t1', duration=2)\n",
    "t2 = FixedDurationTask('t2', duration=2)\n",
    "t3 = FixedDurationTask('t3', duration=2)\n",
    "\n",
    "# resource requirements\n",
    "w1 = Worker('W1')\n",
    "w2 = Worker('W2')\n",
    "\n",
    "# resource assignement\n",
    "t1.add_required_resource(w1)  # t1 only needs w1\n",
    "t2.add_required_resource(w2)  # t2 only needs w2\n",
    "t3.add_required_resource(w1)  # t2 needs both w1 AND w2\n",
    "t3.add_required_resource(w2)\n",
    "\n",
    "# solve\n",
    "solver1 = SchedulingSolver(pb_ra, verbosity=False)\n",
    "solution1 = solver1.solve()\n",
    "solution1.render_gantt_matplotlib()"
   ]
  },
  {
   "cell_type": "markdown",
   "metadata": {},
   "source": [
    "### TaskDontOverlap constraint\n",
    "Make two tasks don't overlap, one is scheduled after the other, or the opposite."
   ]
  },
  {
   "cell_type": "code",
   "execution_count": null,
   "metadata": {},
   "outputs": [],
   "source": [
    "# problem\n",
    "pb_ovlap = SchedulingProblem(\"DontOverlapExample\", horizon=6)\n",
    "# tasks\n",
    "t1 = FixedDurationTask('t1', duration=2)\n",
    "t2 = FixedDurationTask('t2', duration=2)\n",
    "t3 = FixedDurationTask('t3', duration=2)\n",
    "\n",
    "# constraints\n",
    "c1 = TaskStartAt(t2, 1)\n",
    "c2 = TasksDontOverlap(t2, t3) # t2 and t3 must not overlap\n",
    "pb_ovlap.add_constraints([c1, c2])\n",
    "\n",
    "# solve\n",
    "solver1 = SchedulingSolver(pb_ovlap, verbosity=False)\n",
    "sol=solver1.solve()\n",
    "# render_mode set to Tasks because there is no resource\n",
    "sol.render_gantt_matplotlib(render_mode='Tasks')"
   ]
  },
  {
   "cell_type": "markdown",
   "metadata": {},
   "source": [
    "### AlternativeWorkers assignment\n",
    "Choose $n$ workers among a list of available workers"
   ]
  },
  {
   "cell_type": "code",
   "execution_count": null,
   "metadata": {},
   "outputs": [],
   "source": [
    "# problem\n",
    "pb_alt = SchedulingProblem(\"AlternativeWorkerExample\")\n",
    "\n",
    "# tasks\n",
    "t1 = FixedDurationTask('t1', duration=3)\n",
    "t2 = FixedDurationTask('t2', duration=2)\n",
    "t3 = FixedDurationTask('t3', duration=2)\n",
    "\n",
    "# resource requirements\n",
    "w1 = Worker('W1')\n",
    "w2 = Worker('W2')\n",
    "w3 = Worker('W3')\n",
    "w4 = AlternativeWorkers([w1, w2, w3], nb_workers=1, kind='atmost')\n",
    "\n",
    "# resource assignement\n",
    "t1.add_required_resource(w1)  # t1 only needs w1\n",
    "t2.add_required_resource(w2)  # t2 only needs w2\n",
    "t3.add_required_resource(w4)  # t3 only needs one of w1, 2 or 3\n",
    "\n",
    "# solve\n",
    "solver1 = SchedulingSolver(pb_alt, verbosity=False)\n",
    "sol=solver1.solve()\n",
    "sol.render_gantt_matplotlib(render_mode='Tasks')"
   ]
  },
  {
   "cell_type": "code",
   "execution_count": null,
   "metadata": {},
   "outputs": [],
   "source": [
    "pb_alt = SchedulingProblem(\"AlternativeWorkerExample\")\n",
    "\n",
    "# tasks\n",
    "t1 = FixedDurationTask('t1', duration=3)\n",
    "t2 = FixedDurationTask('t2', duration=2)\n",
    "t3 = FixedDurationTask('t3', duration=2)\n",
    "t4 = FixedDurationTask('t4', duration=2)\n",
    "t5 = FixedDurationTask('t5', duration=2)\n",
    "\n",
    "# resource requirements\n",
    "w1 = Worker('W1')\n",
    "w2 = Worker('W2')\n",
    "w3 = Worker('W3')\n",
    "w4 = AlternativeWorkers([w1, w2, w3], nb_workers=1, kind='exact')\n",
    "w5 = AlternativeWorkers([w1, w2, w3], nb_workers=2, kind='atmost')\n",
    "w6 = AlternativeWorkers([w1, w2, w3], nb_workers=3, kind='atleast')\n",
    "\n",
    "# resource assignement\n",
    "t1.add_required_resource(w1)  # t1 only needs w1\n",
    "t2.add_required_resource(w2)  # t2 only needs w2\n",
    "t3.add_required_resource(w4)  # t3 needs one of w1, 2 or 3\n",
    "t4.add_required_resource(w5)  # t4 needs at most 2 of w1, w2 or 3\n",
    "t5.add_required_resource(w6)  # t5 needs at least 3 of w1, w2 or w3\n",
    "\n",
    "pb_alt.add_objective_makespan()\n",
    "\n",
    "# solve\n",
    "solver1 = SchedulingSolver(pb_alt, verbosity=False)\n",
    "sol=solver1.solve()\n",
    "\n",
    "sol.render_gantt_matplotlib(render_mode='Tasks')"
   ]
  },
  {
   "cell_type": "markdown",
   "metadata": {},
   "source": [
    "### Boolean Not for a task constraint"
   ]
  },
  {
   "cell_type": "code",
   "execution_count": null,
   "metadata": {},
   "outputs": [],
   "source": [
    "# problem\n",
    "pb_not = SchedulingProblem(\"NotOperator\", horizon=4)\n",
    "\n",
    "# tasks\n",
    "t2 = FixedDurationTask('t2', duration=2)\n",
    "\n",
    "pb_not.add_constraint(not_(TaskStartAt(t2, 0)))\n",
    "pb_not.add_constraint(not_(TaskStartAt(t2, 1)))\n",
    "\n",
    "# solve\n",
    "solver = SchedulingSolver(pb_not, verbosity=False)\n",
    "sol=solver.solve()\n",
    "print(sol.to_json_string())\n",
    "sol.render_gantt_matplotlib()"
   ]
  },
  {
   "cell_type": "markdown",
   "metadata": {},
   "source": [
    "### Boolean Or between tasks constraints"
   ]
  },
  {
   "cell_type": "code",
   "execution_count": null,
   "metadata": {},
   "outputs": [],
   "source": [
    "# problem\n",
    "pb_or = SchedulingProblem(\"OrOperator\", horizon=7)\n",
    "\n",
    "# tasks\n",
    "task = FixedDurationTask('task', duration=2)\n",
    "\n",
    "pb_or.add_constraint(or_(TaskStartAt(task, 3), TaskStartAt(task, 2)))\n",
    "# solve\n",
    "solver = SchedulingSolver(pb_or, verbosity=False)\n",
    "sol=solver.solve()\n",
    "sol.render_gantt_matplotlib()"
   ]
  },
  {
   "cell_type": "markdown",
   "metadata": {},
   "source": [
    "### Boolean And between tasks constraints"
   ]
  },
  {
   "cell_type": "code",
   "execution_count": null,
   "metadata": {},
   "outputs": [],
   "source": [
    "# problem\n",
    "pb_and = SchedulingProblem(\"AndOperator\", horizon=8)\n",
    "\n",
    "# tasks\n",
    "task = FixedDurationTask('task', duration=2)\n",
    "\n",
    "pb_and.add_constraint(and_(TaskStartAfterLax(task, 1), TaskEndBeforeLax(task, 4)))\n",
    "# solve\n",
    "solver = SchedulingSolver(pb_and, verbosity=False)\n",
    "sol=solver.solve()\n",
    "sol.render_gantt_matplotlib()"
   ]
  },
  {
   "cell_type": "code",
   "execution_count": null,
   "metadata": {},
   "outputs": [],
   "source": [
    "problem = SchedulingProblem('FindAnotherSolution', horizon=6)\n",
    "nb_solution = 0\n",
    "# only one task, there are many diffrent solutions\n",
    "task_1 = FixedDurationTask('task1', duration=2)\n",
    "\n",
    "solver = SchedulingSolver(problem)\n",
    "solution = solver.solve()\n",
    "\n",
    "assert solution\n",
    "\n",
    "while solution:\n",
    "    nb_solution += 1\n",
    "    print(\"Solution found for task1 start:\", task_1.scheduled_start)\n",
    "    solution = solver.find_another_solution(task_1.start)\n",
    "print(\"Number of solutions:\", nb_solution)"
   ]
  },
  {
   "cell_type": "code",
   "execution_count": null,
   "metadata": {},
   "outputs": [],
   "source": []
  }
 ],
 "metadata": {
  "kernelspec": {
   "display_name": "Python 3",
   "language": "python",
   "name": "python3"
  },
  "language_info": {
   "codemirror_mode": {
    "name": "ipython",
    "version": 3
   },
   "file_extension": ".py",
   "mimetype": "text/x-python",
   "name": "python",
   "nbconvert_exporter": "python",
   "pygments_lexer": "ipython3",
   "version": "3.8.6"
  }
 },
 "nbformat": 4,
 "nbformat_minor": 4
}
