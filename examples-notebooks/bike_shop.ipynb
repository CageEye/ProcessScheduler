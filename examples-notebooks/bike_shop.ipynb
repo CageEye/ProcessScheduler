{
 "cells": [
  {
   "cell_type": "code",
   "execution_count": null,
   "metadata": {},
   "outputs": [],
   "source": [
    "import processscheduler as ps"
   ]
  },
  {
   "cell_type": "markdown",
   "metadata": {},
   "source": [
    "# Bike shop\n",
    "Ported from https://github.com/timnon/pyschedule/blob/master/example-notebooks/bike-shop.ipynb"
   ]
  },
  {
   "cell_type": "code",
   "execution_count": null,
   "metadata": {},
   "outputs": [],
   "source": [
    "pb_bs = ps.SchedulingProblem(\"BikeShop\")\n",
    "\n",
    "# workers\n",
    "Alice = ps.Worker('Alice')\n",
    "Bob = ps.Worker('Bob')\n",
    "pb_bs.add_resources([Alice, Bob])\n",
    "\n",
    "# tasks\n",
    "green_paint = ps.FixedDurationTask('GreenPaint', duration=2)\n",
    "red_paint = ps.FixedDurationTask('RedPaint', duration=2)\n",
    "green_post = ps.FixedDurationTask('GreenPost', duration=1)\n",
    "red_post = ps.FixedDurationTask('RedPost', duration=1)\n",
    "pb_bs.add_tasks([green_paint, red_paint, green_post, red_post])\n",
    "\n",
    "# precedence constraints\n",
    "prec1 = ps.TaskPrecedence(green_paint, green_post)\n",
    "prec2 = ps.TaskPrecedence(red_paint, red_post, 1, kind=ps.PrecedenceType.TIGHT)\n",
    "pb_bs.add_constraints([prec1, prec2])\n",
    "\n",
    "# resource assignment\n",
    "green_paint.add_required_resource(ps.AlternativeWorkers([Alice, Bob], 1))\n",
    "green_post.add_required_resource(ps.AlternativeWorkers([Alice, Bob], 1))\n",
    "red_paint.add_required_resource(ps.AlternativeWorkers([Alice, Bob], 1))\n",
    "red_post.add_required_resource(ps.AlternativeWorkers([Alice, Bob], 1))\n",
    "\n",
    "# add makespan objectie\n",
    "pb_bs.add_objective_makespan()\n",
    "\n",
    "# plot solution\n",
    "solver = ps.SchedulingSolver(pb_bs, verbosity=False)\n",
    "solver.solve()\n",
    "pb_bs.render_gantt_matplotlib()"
   ]
  },
  {
   "cell_type": "code",
   "execution_count": null,
   "metadata": {},
   "outputs": [],
   "source": [
    "paint_shop = ps.Worker('PaintShop')\n",
    "pb_bs.add_resource(paint_shop)\n",
    "\n",
    "red_paint.add_required_resource(paint_shop)\n",
    "green_paint.add_required_resource(paint_shop)\n",
    "\n",
    "# create another solver instance\n",
    "solver_2 = ps.SchedulingSolver(pb_bs, verbosity=False)\n",
    "solver_2.solve()\n",
    "pb_bs.render_gantt_matplotlib()"
   ]
  },
  {
   "cell_type": "code",
   "execution_count": null,
   "metadata": {},
   "outputs": [],
   "source": [
    "prec3 = ps.TaskStartAfterLax(red_paint, 2)\n",
    "pb_bs.add_constraint(prec3)\n",
    "\n",
    "# create another solver instance\n",
    "solver_2 = ps.SchedulingSolver(pb_bs, verbosity=False)\n",
    "solver_2.solve()\n",
    "pb_bs.render_gantt_matplotlib()"
   ]
  }
 ],
 "metadata": {
  "kernelspec": {
   "display_name": "Python 3",
   "language": "python",
   "name": "python3"
  },
  "language_info": {
   "codemirror_mode": {
    "name": "ipython",
    "version": 3
   },
   "file_extension": ".py",
   "mimetype": "text/x-python",
   "name": "python",
   "nbconvert_exporter": "python",
   "pygments_lexer": "ipython3",
   "version": "3.8.6"
  }
 },
 "nbformat": 4,
 "nbformat_minor": 4
}
