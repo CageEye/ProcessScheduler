{
 "cells": [
  {
   "cell_type": "markdown",
   "metadata": {},
   "source": [
    "# Use case: formula one pitstop\n",
    "\n",
    "This example is based on the DailyMail blog entry https://www.dailymail.co.uk/sport/formulaone/article-4401632/Formula-One-pit-stop-does-crew-work.html where a nice image shows 21 people changing the 4 tires of a Formula 1 Ferrari."
   ]
  },
  {
   "cell_type": "code",
   "execution_count": null,
   "metadata": {},
   "outputs": [],
   "source": [
    "from IPython.display import YouTubeVideo\n",
    "YouTubeVideo('aHSUp7msCIE', width=800, height=300)"
   ]
  },
  {
   "cell_type": "markdown",
   "metadata": {},
   "source": [
    "### Necessary imports\n",
    "The best way to import the processscheduler module is to choose an alias import. Indeed, a global import should generate name conflicts. Here, the *ps* alias is used."
   ]
  },
  {
   "cell_type": "code",
   "execution_count": null,
   "metadata": {},
   "outputs": [],
   "source": [
    "import processscheduler as ps\n",
    "%config InlineBackend.figure_formats = ['svg']"
   ]
  },
  {
   "cell_type": "markdown",
   "metadata": {},
   "source": [
    "### Create the scheduling problem\n",
    "The total horizon is not knwown, leave it empty and only set the problem name."
   ]
  },
  {
   "cell_type": "code",
   "execution_count": null,
   "metadata": {},
   "outputs": [],
   "source": [
    "change_tires_problem = ps.SchedulingProblem('ChangeTires')"
   ]
  },
  {
   "cell_type": "markdown",
   "metadata": {},
   "source": [
    "### Create the 21 availble resources\n",
    "Each people in and around the car is represented as a worker."
   ]
  },
  {
   "cell_type": "code",
   "execution_count": null,
   "metadata": {},
   "outputs": [],
   "source": [
    "nb_lifters = 2\n",
    "nb_gunners = 4\n",
    "nb_tyre_handlers = 8\n",
    "nb_stabilizers = 2"
   ]
  },
  {
   "cell_type": "code",
   "execution_count": null,
   "metadata": {},
   "outputs": [],
   "source": [
    "# Lift tasks\n",
    "lifters = [ps.Worker('JackOperator%i' % (i + 1)) for i in range(nb_lifters)]\n",
    "gunners = [ps.Worker('TyreGunner%i' % (i + 1)) for i in range(nb_gunners)]\n",
    "tyre_handlers = [ps.Worker('TyreHandler%i' % (i + 1)) for i in range(nb_tyre_handlers)]\n",
    "stabilizers = [ps.Worker('Stabilizer%i' % (i + 1)) for i in range(nb_stabilizers)]"
   ]
  },
  {
   "cell_type": "markdown",
   "metadata": {},
   "source": [
    "### Create tasks and assign resources\n",
    "One period is mapped to one second. For example, if lifting the rear take 2sec then the duration will be set to 2."
   ]
  },
  {
   "cell_type": "code",
   "execution_count": null,
   "metadata": {},
   "outputs": [],
   "source": [
    "# lift tasks and lifters\n",
    "# both lift tasks can be processed by any one of the lifters\n",
    "lift_rear = ps.FixedDurationTask('LiftRear', duration=2)\n",
    "lift_front = ps.FixedDurationTask('LiftFront', duration=2)\n",
    "lift_rear.add_required_resource(ps.SelectWorkers(lifters))\n",
    "lift_front.add_required_resource(ps.SelectWorkers(lifters))\n",
    "\n",
    "# unscrew tasks\n",
    "unscrew_front_left_tyre = ps.FixedDurationTask('UnScrewFrontLeftTyre', duration=2)\n",
    "unscrew_front_right_tyre = ps.FixedDurationTask('UnScrewFrontRightTyre', duration=2)\n",
    "unscrew_rear_left_tyre = ps.FixedDurationTask('UnScrewRearLeftTyre', duration=2)\n",
    "unscrew_rear_right_tyre = ps.FixedDurationTask('UnScrewRearRightTyre', duration=2)\n",
    "\n",
    "for unscrew_task in [unscrew_front_left_tyre, unscrew_front_right_tyre,\n",
    "                    unscrew_rear_left_tyre, unscrew_rear_right_tyre]:\n",
    "    unscrew_task.add_required_resource(ps.SelectWorkers(gunners))\n",
    "\n",
    "# screw tasks and gunners\n",
    "screw_front_left_tyre = ps.FixedDurationTask('ScrewFrontLeftTyre', duration=2)\n",
    "screw_front_right_tyre = ps.FixedDurationTask('ScrewFrontRightTyre', duration=2)\n",
    "screw_rear_left_tyre = ps.FixedDurationTask('ScrewRearLeftTyre', duration=2)\n",
    "screw_rear_right_tyre = ps.FixedDurationTask('ScrewRearRightTyre', duration=2)\n",
    "\n",
    "for screw_task in [screw_front_left_tyre, screw_front_right_tyre,\n",
    "                   screw_rear_left_tyre, screw_rear_right_tyre]:\n",
    "    screw_task.add_required_resource(ps.SelectWorkers(gunners))\n",
    "\n",
    "# tires OFF and handlers\n",
    "front_left_tyre_off = ps.FixedDurationTask('FrontLeftTyreOff', duration=2)\n",
    "front_right_tyre_off = ps.FixedDurationTask('FrontRightTyreOff', duration=2)\n",
    "rear_left_tyre_off = ps.FixedDurationTask('RearLeftTyreOff', duration=2)\n",
    "rear_right_tyre_off = ps.FixedDurationTask('RearRightTyreOff', duration=2)\n",
    "\n",
    "for tyre_off_task in [front_left_tyre_off, front_right_tyre_off,\n",
    "                      rear_left_tyre_off, rear_right_tyre_off]:\n",
    "    tyre_off_task.add_required_resource(ps.SelectWorkers(tyre_handlers))\n",
    "\n",
    "# tires ON and handlers\n",
    "front_left_tyre_on = ps.FixedDurationTask('FrontLeftTyreOn', duration=2)\n",
    "front_right_tyre_on = ps.FixedDurationTask('FrontRightTyreOn', duration=2)\n",
    "rear_left_tyre_on = ps.FixedDurationTask('RearLeftTyreOn', duration=2)\n",
    "rear_right_tyre_on = ps.FixedDurationTask('RearRightTyreOn', duration=2)\n",
    "\n",
    "for tyre_on_task in [front_left_tyre_on, front_right_tyre_on,\n",
    "                     rear_left_tyre_on, rear_right_tyre_on]:\n",
    "    tyre_on_task.add_required_resource(ps.SelectWorkers(tyre_handlers))\n"
   ]
  },
  {
   "cell_type": "markdown",
   "metadata": {},
   "source": [
    "### Task precedences"
   ]
  },
  {
   "cell_type": "code",
   "execution_count": null,
   "metadata": {},
   "outputs": [],
   "source": [
    "# front left tyre operations\n",
    "fr_left = [unscrew_front_left_tyre, front_left_tyre_off, front_left_tyre_on,\n",
    "           screw_front_left_tyre]\n",
    "for i in range(len(fr_left) - 1):\n",
    "    change_tires_problem.add_constraint(ps.TaskPrecedence(fr_left[i], fr_left[i+1]))\n",
    "# front right tyre operations\n",
    "fr_right = [unscrew_front_right_tyre, front_right_tyre_off, front_right_tyre_on,\n",
    "           screw_front_right_tyre]\n",
    "for i in range(len(fr_right) - 1):\n",
    "    change_tires_problem.add_constraint(ps.TaskPrecedence(fr_right[i], fr_right[i+1]))\n",
    "# rear left tyre operations\n",
    "re_left = [unscrew_rear_left_tyre, rear_left_tyre_off, rear_left_tyre_on,\n",
    "           screw_rear_left_tyre]\n",
    "for i in range(len(re_left) - 1):\n",
    "    change_tires_problem.add_constraint(ps.TaskPrecedence(re_left[i], re_left[i+1]))\n",
    "# front left tyre operations\n",
    "re_right = [unscrew_rear_right_tyre, rear_right_tyre_off, rear_right_tyre_on,\n",
    "           screw_rear_right_tyre]\n",
    "for i in range(len(re_right) - 1):\n",
    "    change_tires_problem.add_constraint(ps.TaskPrecedence(re_right[i], re_right[i+1]))\n",
    "    \n",
    "# all un screw operations must start after the car is lift by both front and rear jacks\n",
    "for unscrew_tasks in [unscrew_front_left_tyre, unscrew_front_right_tyre,\n",
    "                      unscrew_rear_left_tyre, unscrew_rear_right_tyre]:\n",
    "    change_tires_problem.add_constraint(ps.TaskPrecedence(lift_rear, unscrew_tasks))\n",
    "    change_tires_problem.add_constraint(ps.TaskPrecedence(lift_front, unscrew_tasks))"
   ]
  },
  {
   "cell_type": "markdown",
   "metadata": {},
   "source": [
    "### Compute a first solution and plot the result"
   ]
  },
  {
   "cell_type": "code",
   "execution_count": null,
   "metadata": {},
   "outputs": [],
   "source": [
    "solver = ps.SchedulingSolver(change_tires_problem)\n",
    "solution_1 = solver.solve()\n",
    "solution_1.render_gantt_matplotlib(fig_size=(10,5), render_mode='Resources')"
   ]
  },
  {
   "cell_type": "markdown",
   "metadata": {},
   "source": [
    "### Add a makespan objective, compute a second solution\n",
    "Obviously, the former solution is not the *best* solution, not sure Ferrari will win this race ! The whole \"change tires\" activity must be as short as possible, so let's add a *makespan* objective, i.e. a constraint that minimizes the schedule horizon."
   ]
  },
  {
   "cell_type": "code",
   "execution_count": null,
   "metadata": {},
   "outputs": [],
   "source": [
    "# add makespan objective\n",
    "change_tires_problem.add_objective_makespan()\n",
    "\n",
    "solver_2 = ps.SchedulingSolver(change_tires_problem)\n",
    "solution_2 = solver_2.solve()\n",
    "solution_2.render_gantt_matplotlib(fig_size=(10,5), render_mode='Tasks')"
   ]
  }
 ],
 "metadata": {
  "kernelspec": {
   "display_name": "Python 3",
   "language": "python",
   "name": "python3"
  },
  "language_info": {
   "codemirror_mode": {
    "name": "ipython",
    "version": 3
   },
   "file_extension": ".py",
   "mimetype": "text/x-python",
   "name": "python",
   "nbconvert_exporter": "python",
   "pygments_lexer": "ipython3",
   "version": "3.8.6"
  }
 },
 "nbformat": 4,
 "nbformat_minor": 4
}
